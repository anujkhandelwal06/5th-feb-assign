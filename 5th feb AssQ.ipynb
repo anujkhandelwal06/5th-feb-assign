{
 "cells": [
  {
   "cell_type": "code",
   "execution_count": 1,
   "id": "2c716431-2ec0-48c5-9e9b-14e0c560a89c",
   "metadata": {},
   "outputs": [],
   "source": [
    "# Explain Class and Object with respect to Object-Oriented Programming. Give a suitable example."
   ]
  },
  {
   "cell_type": "code",
   "execution_count": 3,
   "id": "48e6ff97-cd1c-4175-b5cf-82c19b0c68f3",
   "metadata": {},
   "outputs": [],
   "source": [
    "a=1"
   ]
  },
  {
   "cell_type": "code",
   "execution_count": 4,
   "id": "f85ae302-9399-4c4c-82af-17a01f540770",
   "metadata": {},
   "outputs": [
    {
     "name": "stdout",
     "output_type": "stream",
     "text": [
      "<class 'int'>\n"
     ]
    }
   ],
   "source": [
    "print(type(a))"
   ]
  },
  {
   "cell_type": "code",
   "execution_count": 7,
   "id": "969c3140-9789-4f8f-b910-e4d1a959c310",
   "metadata": {},
   "outputs": [],
   "source": [
    "#Class with respect to Oops: Class is a skeleton / blueprint that defines the charateristic and behaviours of an object.\n",
    "\n",
    "#An object, is an instance of a class that has specific values for its attributes and can perform actions defined in class"
   ]
  },
  {
   "cell_type": "code",
   "execution_count": 13,
   "id": "026e9fe2-3985-4e68-b5aa-a257158e2e29",
   "metadata": {},
   "outputs": [],
   "source": [
    "class pwskills1:\n",
    "  \n",
    "  def __init__(self, phone_number, email_id, student_id):\n",
    "    self.phone_number = phone_number\n",
    "    self.email_id = email_id\n",
    "    self.student_id = student_id\n",
    "    \n",
    "    def return_student_details(self):\n",
    "    \n",
    "      return self.student_id, self.phone_number, self.email_id"
   ]
  },
  {
   "cell_type": "code",
   "execution_count": 14,
   "id": "8dcf7015-c3e7-4aec-bd71-8c2130c5c2c1",
   "metadata": {},
   "outputs": [],
   "source": [
    "rohan = pwskills1(1222232232, \"rohan@gmail.com\", 101)"
   ]
  },
  {
   "cell_type": "code",
   "execution_count": 18,
   "id": "b2f40a02-02db-4851-9a61-4647698f7ecd",
   "metadata": {},
   "outputs": [
    {
     "data": {
      "text/plain": [
       "'rohan@gmail.com'"
      ]
     },
     "execution_count": 18,
     "metadata": {},
     "output_type": "execute_result"
    }
   ],
   "source": [
    "rohan.email_id"
   ]
  },
  {
   "cell_type": "code",
   "execution_count": 19,
   "id": "40ff049c-ff68-42e4-a7b2-8ce3b7f81fd0",
   "metadata": {},
   "outputs": [
    {
     "data": {
      "text/plain": [
       "1222232232"
      ]
     },
     "execution_count": 19,
     "metadata": {},
     "output_type": "execute_result"
    }
   ],
   "source": [
    "rohan.phone_number"
   ]
  },
  {
   "cell_type": "code",
   "execution_count": 21,
   "id": "2b9b3065-1d58-45a6-92f3-1c70148cc8cf",
   "metadata": {},
   "outputs": [],
   "source": [
    "#Name the four pillars of OOPs\n",
    "\n",
    "# 1.Encapsulation : It is the process of hiding the internal details of an object from the outside world and accessing it only through a well-defined interface. \n",
    "\n",
    "# 2.Abstraction : It is the process of focusing on essential features of an object while ignoring the irrevelant details.\n",
    "\n",
    "# 3. Inheritance : It is the process of creating a new class from an existing class by inheriting its properties and behaviors.\n",
    "\n",
    "# 4. Polymorphism : It is the ability of objects to take on many forms or have mutiple behaviors."
   ]
  },
  {
   "cell_type": "code",
   "execution_count": 22,
   "id": "f9807fcf-b08d-4657-b5ca-d6914c43f72e",
   "metadata": {},
   "outputs": [],
   "source": [
    "# Explain why the __init__() function is used. Give a suitable example.\n",
    "\n",
    "#__init__() : its an intilization function and inbuilt fuction in python used for passing the data inside the class and its also a constructor."
   ]
  },
  {
   "cell_type": "code",
   "execution_count": 23,
   "id": "d6319dd5-10f4-478e-8d40-ad7040f2e236",
   "metadata": {},
   "outputs": [],
   "source": [
    "class car:\n",
    "    def __init__(self,make,model,year):\n",
    "        self.make=make\n",
    "        self.model=model\n",
    "        self.year=year\n",
    "        "
   ]
  },
  {
   "cell_type": "code",
   "execution_count": 27,
   "id": "ad652607-c748-4666-934a-6928e11acb69",
   "metadata": {},
   "outputs": [],
   "source": [
    "my_car=car('Tata','Nexon',2023)"
   ]
  },
  {
   "cell_type": "code",
   "execution_count": 28,
   "id": "587fc0b0-0101-47df-8ef9-cd9d45737182",
   "metadata": {},
   "outputs": [
    {
     "name": "stdout",
     "output_type": "stream",
     "text": [
      "Tata\n"
     ]
    }
   ],
   "source": [
    "print(my_car.make)"
   ]
  },
  {
   "cell_type": "code",
   "execution_count": 29,
   "id": "e805daff-8115-4920-b931-cb5592da0a03",
   "metadata": {},
   "outputs": [
    {
     "name": "stdout",
     "output_type": "stream",
     "text": [
      "Nexon\n"
     ]
    }
   ],
   "source": [
    "print(my_car.model)"
   ]
  },
  {
   "cell_type": "code",
   "execution_count": 31,
   "id": "5e7d8afa-c6bc-4ac7-b796-96a7e9863745",
   "metadata": {},
   "outputs": [
    {
     "name": "stdout",
     "output_type": "stream",
     "text": [
      "2023\n"
     ]
    }
   ],
   "source": [
    "print(my_car.year)"
   ]
  },
  {
   "cell_type": "code",
   "execution_count": 32,
   "id": "db8cff31-90d6-4de6-b685-b4b9d70ad3ed",
   "metadata": {},
   "outputs": [],
   "source": [
    "#Why self is used in OOPs?\n",
    "\n",
    "#If you want to acess class variable use self function it is the pointer and provide referance provide through class.\n"
   ]
  },
  {
   "cell_type": "code",
   "execution_count": 33,
   "id": "28b55729-16d3-4c95-8c9b-5b02227cc57a",
   "metadata": {},
   "outputs": [],
   "source": [
    "#. What is inheritance? Give an example for each type of inheritance.\n",
    "\n",
    "#Inheritance : It is the process of creating a new class from an existing class by inheriting its properties and behaviors."
   ]
  },
  {
   "cell_type": "code",
   "execution_count": 41,
   "id": "ff74d4ca-ae2d-4d43-8aa3-d519307cc978",
   "metadata": {},
   "outputs": [],
   "source": [
    "#Single Inheritance: In single inheritance, a child class inherits from a single parent class.\n",
    "\n",
    "class Animal:\n",
    "   def __init__(self, name, sound):\n",
    "       self.name = name\n",
    "       self.sound = sound\n",
    "\n",
    "class Dog(Animal):\n",
    "   def __init__(self, name, sound, breed):\n",
    "       super().__init__(name, sound)\n",
    "       self.breed = breed\n"
   ]
  },
  {
   "cell_type": "code",
   "execution_count": 43,
   "id": "025d48a9-2e9c-4b68-80c8-166df6831ce0",
   "metadata": {},
   "outputs": [],
   "source": [
    "#Multiple Inheritance: In multiple inheritance, a child class inherits from two or more parent classes.\n",
    "\n",
    "class A:\n",
    "   def method_a(self):\n",
    "       print(\"Method A\")\n",
    "\n",
    "class B:\n",
    "   def method_b(self):\n",
    "       print(\"Method B\")\n",
    "\n",
    "class C(A, B):\n",
    "   def method_c(self):\n",
    "       print(\"Method C\")\n",
    "\n"
   ]
  },
  {
   "cell_type": "code",
   "execution_count": 44,
   "id": "f6c40cf7-0ddc-4db2-9190-79b53a2a45ca",
   "metadata": {},
   "outputs": [],
   "source": [
    "#Multilevel Inheritance: In multilevel inheritance, a child class inherits from a parent class, which in turn inherits from another parent class.\n",
    "\n",
    "class Animal:\n",
    "   def __init__(self, name):\n",
    "       self.name = name\n",
    "\n",
    "class Dog(Animal):\n",
    "   def bark(self):\n",
    "       print(\"Woof!\")\n",
    "\n",
    "class Bulldog(Dog):\n",
    "   def __init__(self, name):\n",
    "       super().__init__(name)\n",
    "\n"
   ]
  },
  {
   "cell_type": "code",
   "execution_count": 46,
   "id": "23c6a810-943a-47bf-8df7-aa99a5edabe2",
   "metadata": {},
   "outputs": [],
   "source": [
    "#Hierarchical Inheritance: In hierarchical inheritance, multiple child classes inherit from a single parent class.\n",
    "\n",
    "class Animal:\n",
    "   def __init__(self, name):\n",
    "       self.name = name\n",
    "\n",
    "class Dog(Animal):\n",
    "   def bark(self):\n",
    "       print(\"Woof!\")\n",
    "\n",
    "class Cat(Animal):\n",
    "   def meow(self):\n",
    "       print(\"Meow!\")\n",
    "\n"
   ]
  },
  {
   "cell_type": "code",
   "execution_count": null,
   "id": "031c4a9a-1f4f-42a9-b0aa-d164aad22ae0",
   "metadata": {},
   "outputs": [],
   "source": []
  }
 ],
 "metadata": {
  "kernelspec": {
   "display_name": "Python 3 (ipykernel)",
   "language": "python",
   "name": "python3"
  },
  "language_info": {
   "codemirror_mode": {
    "name": "ipython",
    "version": 3
   },
   "file_extension": ".py",
   "mimetype": "text/x-python",
   "name": "python",
   "nbconvert_exporter": "python",
   "pygments_lexer": "ipython3",
   "version": "3.10.8"
  }
 },
 "nbformat": 4,
 "nbformat_minor": 5
}
